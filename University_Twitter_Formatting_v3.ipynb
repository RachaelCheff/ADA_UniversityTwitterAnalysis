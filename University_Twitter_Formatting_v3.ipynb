{
 "cells": [
  {
   "cell_type": "code",
   "execution_count": 15,
   "metadata": {
    "collapsed": true
   },
   "outputs": [],
   "source": [
    "directory = \"C:/Users/Rachael Cheff/Desktop/AppliedDataAnalytics/2017-Fall-University_Study/\"\n",
    "\n",
    "import csv\n",
    "import string\n",
    "import collections\n",
    "import numpy\n",
    "import pandas as pd"
   ]
  },
  {
   "cell_type": "code",
   "execution_count": 39,
   "metadata": {
    "scrolled": true
   },
   "outputs": [
    {
     "name": "stdout",
     "output_type": "stream",
     "text": [
      "There are  84  universities in this list.\n",
      "0         uaanchorage\n",
      "1         uafairbanks\n",
      "2         uasoutheast\n",
      "3                 ASU\n",
      "4                 NAU\n",
      "5         NAUExtended\n",
      "6                UofA\n",
      "7             UASouth\n",
      "8       calpolypomona\n",
      "9      CSUBakersfield\n",
      "10              csuci\n",
      "11         ChicoState\n",
      "12     DominguezHills\n",
      "13    CalStateEastBay\n",
      "14       Cal_Maritime\n",
      "15           sacstate\n",
      "16          CSUSBNews\n",
      "17              CSUSM\n",
      "18         stan_state\n",
      "19      humboldtstate\n",
      "20           ucmerced\n",
      "21           CUDenver\n",
      "22          CUBoulder\n",
      "23       UNC_Colorado\n",
      "24         adamsstate\n",
      "25      ColoradoMesaU\n",
      "26     ColoradoStateU\n",
      "27          CSUPueblo\n",
      "28         FLCDurango\n",
      "29          msudenver\n",
      "           ...       \n",
      "54               WNMU\n",
      "55         DickinsonU\n",
      "56      mayvillestate\n",
      "57        Minotstateu\n",
      "58               NDSU\n",
      "59     UofNorthDakota\n",
      "60               VCSU\n",
      "61    eoumountaineers\n",
      "62         OregonTech\n",
      "63     Portland_State\n",
      "64         SOUAshland\n",
      "65            WOUnews\n",
      "66    BlackHillsState\n",
      "67        DakotaState\n",
      "68     NorthernStateU\n",
      "69              sdsmt\n",
      "70            SDState\n",
      "71                usd\n",
      "72         DixieState\n",
      "73          SUUtbirds\n",
      "74              UUtah\n",
      "75          USUAggies\n",
      "76        WeberStateU\n",
      "77                 UW\n",
      "78         WSUPullman\n",
      "79                WWU\n",
      "80       CentralWashU\n",
      "81          EWUEagles\n",
      "82       WSUTriCities\n",
      "83           UWyonews\n",
      "Name: screen_name, Length: 84, dtype: object\n"
     ]
    }
   ],
   "source": [
    "# Reading in the data.\n",
    "\n",
    "# Using Pandas to read in files because of a nasty column numbers error that occurs with typical \"with open\" structure.\n",
    "uni_reference_data = pd.read_csv(directory+\"university_profiles.csv\",skiprows = 1, dtype=str,names=['state','university','university_website','twitter_id','instagram_id'])      \n",
    "uni_twitter_data = pd.read_csv(directory+\"university_only_twitter.csv\", skiprows=1, dtype=str,names=['screen_name','name','id','location','followers_count','friends_count','description'])\n",
    "\n",
    "university_data = pd.DataFrame(uni_reference_data, dtype=str)\n",
    "university_twitter=pd.DataFrame(uni_twitter_data, dtype = str)\n",
    "    \n",
    "print(\"There are \",len(university_twitter['screen_name']),\" universities in this list.\")\n",
    "print(university_twitter['screen_name'])\n"
   ]
  },
  {
   "cell_type": "code",
   "execution_count": 40,
   "metadata": {
    "scrolled": true
   },
   "outputs": [
    {
     "name": "stdout",
     "output_type": "stream",
     "text": [
      "4\n"
     ]
    }
   ],
   "source": [
    "# Testing that data pulled in properly and that I can use it.\n",
    "# Hawaii was a good one to test because it's labeled \"Hawai'i\".\n",
    "# Which I had forgotten when I went to test this- panic ensued.\n",
    "\n",
    "hawaii_list =[]\n",
    "\n",
    "for state in university_data['state']:\n",
    "    if state == \"Hawai'i\":\n",
    "        hawaii_list.append(state)\n",
    "        \n",
    "print(len(hawaii_list))"
   ]
  },
  {
   "cell_type": "code",
   "execution_count": 58,
   "metadata": {},
   "outputs": [
    {
     "name": "stdout",
     "output_type": "stream",
     "text": [
      "{'uaanchorage': 'University of Alaska Anchorage | Discovering and educating through research, engagement, and creative expression.', 'uafairbanks': 'Inspiring discovery. Inspiring greatness. Inspiring, naturally. | Est. 1917', 'uasoutheast': 'University of Alaska Southeast - connecting students with the adventures and opportunities available at UAS.', 'ASU': 'Official Twitter of Arizona State University', 'NAU': 'The official Twitter account for Northern Arizona University and your guide to life in Lumberjack Country.  Contact us at social@nau.edu. : nausocial.', 'NAUExtended': '20+ Statewide Arizona Locations | Entirely Online Degrees | Competency-based Education Through Personalized Learning', 'UofA': 'Whether we are touching an asteroid or determining how we feed 9 billion people, Arizona Wildcats ask bigger questions to get better answers. #BearDown', 'UASouth': 'nan', 'calpolypomona': 'One of the country s leading polytechnic universities recognized for its learn-by-doing academic experience. Home of the Broncos . #WeAreCPP', 'CSUBakersfield': 'California State University, Bakersfield is a comprehensive public university committed to offering excellent undergraduate & graduate programs.', 'csuci': 'CSU Channel Islands is Ventura County s only public, four-year university', 'ChicoState': 'The official Twitter account of California State University, Chico -- home of the Wildcats!', 'DominguezHills': 'We educate a population of unprecedented diversity for leadership roles in a global society. Official acct. of California State University, Dominguez Hills', 'CalStateEastBay': 'Official account for California State University, East Bay.  https://t.co/pLEYnTzCrJ : csuebpioneers. : csueb. Facebookhttp://on.fb.me/1MPJ0ltox.', 'Cal_Maritime': 'California State University Maritime Academy s Official Twitter account. #calmaritime #keelhaulerpride', 'sacstate': 'As California s capital university, we transform lives by preparing students for leadership, service, and success. #MakingItHappenAtSacState! Stingers up!', 'CSUSBNews': 'Stay up to date with the Coyote Family of Cal State San Bernardino  | #coyote4life #sbstrong |Home of the Coyotes [?][?]: csusbnews : csusbnews', 'CSUSM': 'The official Twitter account of California State University San Marcos (CSUSM). Home of the @CSUSMCougars. Posts by Katie & Andrew.', 'stan_state': 'The official source for news, information and bulletins from California State University, Stanislaus.', 'humboldtstate': 'The California State University s northernmost campus, nestled on the Redwood Coast 270 miles north of San Francisco. Like us @ http://t.co/Gb6pdqdSK3.', 'ucmerced': 'UC Merced is the newest campus of the University of California system and the first American research university built in the 21st century.', 'CUDenver': 'The official Twitter account of the University of Colorado Denver. #CUDenver #CUintheCity', 'CUBoulder': 'Official Twitter account for the University of Colorado Boulder. AAU member. #CUBoulder #BeBoulder', 'UNC_Colorado': 'The University of Northern Colorado - proud home of the UNC Bears. Instagram: unc_colorado Facebook: universitynortherncolorado', 'adamsstate': 'News and Event information for Adams State University - Great Stories Begin Here!', 'ColoradoMesaU': 'Colorado Mesa University offers an exceptional experience featuring small, student-centered classes and high levels of student-faculty interaction. #CMesaU', 'ColoradoStateU': '#ColoradoState University, home of the #CSURams, where Green & Gold pride runs deep. https://t.co/w0LvPf6Kv0', 'CSUPueblo': 'Official news from the Colorado State University - Pueblo Office of External Affairs.', 'FLCDurango': 'Fort Lewis College is Colorado s crossroads of education and adventure!', 'msudenver': 'Metropolitan State University of Denver offers a high-quality education on an urban enriched campus. #RoadrunnerPride', 'WesternColoU': 'Western delivers a private college experience at a public university cost, deep in the heart of the Rockies.  Learning, Elevated.', 'UHHilo': 'UH Hilo is an acclaimed, accredited comprehensive liberal arts university in Hawaii. @uhhilo is primarily posted by UH Hilo Webmaster, Sunny Walker.', 'uhmanoa': ' Official Account. Just a little aloha from #UHManoa. #ExploreUHM #FacesOfManoa #MakeManoaYours #GoBows ', 'UHMaui': 'The University of Hawai i Maui College offers 3 BAS degrees, 20 Associate degrees, as well as distance learning degrees through its UH Center on campus.', 'UHWestOahu': \"UH West O'ahu is the official Twitter account of the University of Hawai'i - West O'ahu, a public, undergraduate university on the island of O ahu. #UHWestOahu\", 'uidaho': 'Official Twitter account of the University of Idaho, a leading Northwest student-centered, land-grant research university. #uidaho #govandals', 'IdahoStateU': 'The official Twitter account for Idaho State University. #IdahoState', 'boisestatelive': 'Official Twitter Account of Boise State University. Academic excellence since 1932. Focus on research, creativity and innovation. Go @BroncoSports! #BoiseState', 'LCSC': 'The official Twitter page of Lewis-Clark State College, a public, four-year baccalaureate college offering academic and technical degrees. #LCSC', 'umontana': 'A world-renowned educational institution established in 1893, preparing students for everything the future demands. Follow us for campus news and updates.', 'UCCS': '#ReachHigher at UCCS, a regional research university, part of the world-renowned University of Colorado system, located near the foothills of Pikes Peak.', 'montanastate': 'Mountains and Minds: Located in beautiful Bozeman, MT. #MontanaState offers associate s, bachelor s, master s and doctoral degrees in over 150 fields of study.', 'msubillings': 'Montana s third largest university located in the Magic City!', 'MSUNorthern': 'North central Montana s comprehensive university offering programs and services at the associate, baccalaureate, and master s levels.', 'MontanaWestern': 'University of Montana Western - The only U.S. public four-year institution offering Experience One where you take a single class at a time.', 'NevadaState': 'Welcome to the official profile of Nevada State College. NSC is a comprehensive 4-year public college with over 45 majors & minors. Be bold. Be great. Be State.', 'unlv': 'Official Twitter for the University of Nevada, Las Vegas. #RebelsTakeChances Instagram: unlv Snapchat: officialunlv', 'unevadareno': 'Official news & information from the University of Nevada, Reno. Academics, School of Medicine, Cooperative Extension, Athletics and more.', 'enmu': 'ENMU is a state institution offering associate, bachelor and master degree options. Student Success-that s what it s all about! #ENMU', 'NMHURecruitment': 'Office of Student Recruitment & Undergraduate Admissions for New Mexico Highlands University. #NMHU #MyHomeIsNMHUrecruitment@nmhu.eduadmissions@nmhu.edu', 'newmexicotech': 'Science Research Engineering University', 'nmsu': 'New Mexico State University-We are All About Discovery! Tweets about NMSU from Student Affairs & Enrollment Management. #NMSU #GoAggies #DiscoverNMSU #HelloNMSU', 'NorthernNNMC': 'Official Twitter account of Northern New Mexico College, a minority-serving comprehensive higher education institution located in Espanola, New Mexico.', 'UNM': 'The University of New Mexico. Add us on Snapchat/Instagram @UofNM !', 'WNMU': 'Western New Mexico University offers bachelor and master degrees on campus and online. Established in 1893. Go Mustangs!', 'DickinsonU': 'Home of the Dickinson State @bluehawks in #ndlegendary. #hawksareup #bluehawks #bluehawkpride', 'mayvillestate': 'Exceptional value, great opportunities!', 'Minotstateu': 'We are dedicated to the success of all students: their growth and development as educated citizens, and their life-long devotion to the welfare of others.', 'NDSU': 'News and updates from North Dakota State University, a student-focused, land-grant, research university.', 'UofNorthDakota': 'The official Twitter account for UND, featuring updates, news and conversation about North Dakota s Flagship University. We are Leaders in Action. #UNDproud', 'VCSU': 'The official twitter page of Valley City State University', 'eoumountaineers': 'Eastern Oregon University provides an academic environment where you can live, learn and succeed! Explore the possibilities! #goEOU ', 'OregonTech': 'Oregon Institute of Technology - 4-yr public university, w/ programs in engineering, health technologies, management, communication and applied sciences.', 'Portland_State': 'Located in the heart of downtown, Portland State University is Oregon s urban research university, home of the PSU Vikings. Go Viks! #PortlandState #FearlessPSU', 'SOUAshland': 'We think about more than statistics and research when it comes to our students. We think about real life. You re Home at SOU.  #SOUspirit #RaiderUp', 'WOUnews': 'The official Twitter account for Western Oregon University. Oregon s largest mid-size, public, liberal arts university. #howlaboutit', 'BlackHillsState': 'BHSU - Where ANYTHING Is Possible', 'DakotaState': 'Dakota State University - Home of the Trojans!', 'NorthernStateU': 'Northern State University offers a small college education that rivals many large university experiences.', 'sdsmt': 'The South Dakota School of Mines & Technology offers an exceptional science and engineering education at a price families can afford.', 'SDState': 'Official Twitter account for South Dakota s largest university. Go Big. Go Blue. #GoJacks! Instagram: sdstatepics Snapchat: sdstate', 'usd': 'The University of South Dakota is a big-time university with a small-college feel and the home of extraordinary opportunities.', 'DixieState': 'This is the Official Twitter account for Dixie State University! https://t.co/UNLN9lUiTz', 'SUUtbirds': 'Southern Utah University #studentlife #news #events #stories | Students discovering their purpose since 1897', 'UUtah': 'The official Twitter account of the University of Utah. Find us on FB at https://t.co/ag7R7e6Zzn; IG @ universityofutah; and Snapchat[?]univofutah.', 'USUAggies': 'Utah State University. Utah s land-grant research university. Aggie Blue and Fighting White. #usuaggielife', 'WeberStateU': 'Official tweets from Weber State University. https://t.co/5ms87CChkj Snapchat: weberstateu', 'UW': 'University of Washington students, faculty and staff believe in boundless opportunities. Do you dare to Be Boundless? At the UW, you can.', 'WSUPullman': 'Official Twitter account for the Washington State University Pullman campus. #WSU #GoCougs', 'WWU': '15,000 students, 160 academic programs, a beautiful campus in an incredible community.', 'CentralWashU': 'Central Builds Lives: Central is located in the heart of Washington State, nestled between the Cascade Mountains and the Columbia River.', 'EWUEagles': 'Eastern Washington University is a regional, comprehensive public university. Follow us for events, announcements and connections to other EWU twitter channels.', 'WSUTriCities': 'Official Twitter account for Washington State University Tri-Cities. #WSUTCA polytechnic experience.', 'UWyonews': 'We are University of Wyoming Institutional Communications - where to go for UW news!'}\n"
     ]
    }
   ],
   "source": [
    "# Finally realized that I needed a cheatsheet to keep track of universities and their descriptions.\n",
    "\n",
    "university_desc_lookup = {}\n",
    "\n",
    "u_twitter = university_twitter['screen_name']\n",
    "u_description = university_twitter['description']\n",
    "\n",
    "for u in range(len(u_twitter)):\n",
    "    university= u_twitter[u]\n",
    "    description = u_description[u]\n",
    "    university_desc_lookup[university]=description\n",
    "    \n",
    "print(university_desc_lookup)    "
   ]
  },
  {
   "cell_type": "code",
   "execution_count": 138,
   "metadata": {},
   "outputs": [
    {
     "name": "stdout",
     "output_type": "stream",
     "text": [
      "[('educating', 1), ('anchorage', 1), ('discovering', 1), ('alaska', 1), ('of', 1), ('research', 1), ('creative', 1), ('and', 2), ('engagement', 1), ('university', 1), ('expression', 1), ('through', 1)]\n",
      "[('naturally', 1), ('inspiring', 3), ('greatness', 1), ('est', 1), ('discovery', 1), ('1917', 1)]\n",
      "[('at', 1), ('connecting', 1), ('available', 1), ('adventures', 1), ('with', 1), ('alaska', 1), ('southeast', 1), ('of', 1), ('students', 1), ('and', 1), ('the', 1), ('university', 1), ('opportunities', 1), ('uas', 1)]\n",
      "[('state', 1), ('of', 1), ('arizona', 1), ('university', 1), ('official', 1), ('twitter', 1)]\n",
      "[('country', 1), ('for', 1), ('and', 1), ('socialnauedu', 1), ('university', 1), ('official', 1), ('us', 1), ('northern', 1), ('arizona', 1), ('nausocial', 1), ('account', 1), ('contact', 1), ('the', 1), ('your', 1), ('twitter', 1), ('in', 1), ('at', 1), ('to', 1), ('lumberjack', 1), ('life', 1), ('guide', 1)]\n",
      "[('online', 1), ('personalized', 1), ('statewide', 1), ('learning', 1), ('locations', 1), ('degrees', 1), ('education', 1), ('arizona', 1), ('through', 1), ('competencybased', 1), ('entirely', 1), ('20', 1)]\n",
      "[('asteroid', 1), ('questions', 1), ('whether', 1), ('we', 2), ('billion', 1), ('or', 1), ('feed', 1), ('bigger', 1), ('determining', 1), ('wildcats', 1), ('arizona', 1), ('9', 1), ('beardown', 1), ('ask', 1), ('how', 1), ('answers', 1), ('an', 1), ('to', 1), ('touching', 1), ('get', 1), ('people', 1), ('are', 1), ('better', 1)]\n",
      "[('nan', 1)]\n",
      "[('country', 1), ('for', 1), ('wearecpp', 1), ('experience', 1), ('s', 1), ('polytechnic', 1), ('of', 2), ('its', 1), ('universities', 1), ('leading', 1), ('learnbydoing', 1), ('home', 1), ('broncos', 1), ('the', 2), ('recognized', 1), ('one', 1), ('academic', 1)]\n",
      "[('a', 1), ('public', 1), ('to', 1), ('california', 1), ('offering', 1), ('state', 1), ('bakersfield', 1), ('excellent', 1), ('programs', 1), ('committed', 1), ('graduate', 1), ('undergraduate', 1), ('comprehensive', 1), ('university', 2), ('is', 1)]\n",
      "[('islands', 1), ('public', 1), ('csu', 1), ('ventura', 1), ('s', 1), ('county', 1), ('only', 1), ('fouryear', 1), ('channel', 1), ('university', 1), ('is', 1)]\n",
      "[('california', 1), ('account', 1), ('state', 1), ('of', 2), ('home', 1), ('wildcats', 1), ('chico', 1), ('the', 2), ('university', 1), ('official', 1), ('twitter', 1)]\n",
      "[('a', 2), ('for', 1), ('roles', 1), ('acct', 1), ('california', 1), ('diversity', 1), ('dominguez', 1), ('hills', 1), ('educate', 1), ('state', 1), ('of', 2), ('we', 1), ('global', 1), ('society', 1), ('population', 1), ('university', 1), ('unprecedented', 1), ('official', 1), ('leadership', 1), ('in', 1)]\n",
      "[('for', 1), ('east', 1), ('california', 1), ('bay', 1), ('account', 1), ('httpstcopleyntzcrj', 1), ('state', 1), ('facebookhttponfbme1mpj0ltox', 1), ('csuebpioneers', 1), ('university', 1), ('official', 1), ('csueb', 1)]\n",
      "[('california', 1), ('calmaritime', 1), ('account', 1), ('s', 1), ('academy', 1), ('state', 1), ('maritime', 1), ('university', 1), ('official', 1), ('twitter', 1), ('keelhaulerpride', 1)]\n",
      "[('transform', 1), ('for', 1), ('california', 1), ('makingithappenatsacstate', 1), ('s', 1), ('by', 1), ('stingers', 1), ('service', 1), ('students', 1), ('capital', 1), ('preparing', 1), ('we', 1), ('lives', 1), ('success', 1), ('and', 1), ('university', 1), ('up', 1), ('as', 1), ('leadership', 1)]\n",
      "[('bernardino', 1), ('to', 1), ('coyote4life', 1), ('date', 1), ('with', 1), ('cal', 1), ('state', 1), ('of', 2), ('csusbnews', 2), ('coyotes', 1), ('home', 1), ('coyote', 1), ('stay', 1), ('san', 1), ('the', 2), ('up', 1), ('family', 1), ('sbstrong', 1)]\n",
      "[('marcos', 1), ('california', 1), ('account', 1), ('csusmcougars', 1), ('by', 1), ('state', 1), ('of', 2), ('katie', 1), ('andrew', 1), ('csusm', 1), ('home', 1), ('san', 1), ('the', 2), ('university', 1), ('official', 1), ('posts', 1), ('twitter', 1)]\n",
      "[('for', 1), ('bulletins', 1), ('california', 1), ('from', 1), ('news', 1), ('state', 1), ('stanislaus', 1), ('information', 1), ('source', 1), ('and', 1), ('the', 1), ('university', 1), ('official', 1)]\n",
      "[('us', 1), ('california', 1), ('miles', 1), ('270', 1), ('s', 1), ('on', 1), ('north', 1), ('state', 1), ('coast', 1), ('like', 1), ('of', 1), ('francisco', 1), ('san', 1), ('httptcogb6pdqdsk3', 1), ('the', 2), ('university', 1), ('campus', 1), ('northernmost', 1), ('redwood', 1), ('nestled', 1)]\n",
      "[('merced', 1), ('american', 1), ('california', 1), ('first', 1), ('century', 1), ('system', 1), ('newest', 1), ('of', 2), ('research', 1), ('built', 1), ('21st', 1), ('and', 1), ('the', 4), ('university', 2), ('uc', 1), ('campus', 1), ('is', 1), ('in', 1)]\n",
      "[('cuinthecity', 1), ('account', 1), ('of', 2), ('cudenver', 1), ('denver', 1), ('the', 2), ('university', 1), ('colorado', 1), ('official', 1), ('twitter', 1)]\n",
      "[('for', 1), ('boulder', 1), ('account', 1), ('aau', 1), ('member', 1), ('of', 1), ('cuboulder', 1), ('beboulder', 1), ('the', 1), ('university', 1), ('colorado', 1), ('official', 1), ('twitter', 1)]\n",
      "[('instagram', 1), ('proud', 1), ('universitynortherncolorado', 1), ('bears', 1), ('of', 2), ('facebook', 1), ('home', 1), ('northern', 1), ('colorado', 1), ('university', 1), ('unc', 1), ('the', 2), ('unccolorado', 1)]\n",
      "[('for', 1), ('event', 1), ('begin', 1), ('adams', 1), ('news', 1), ('state', 1), ('stories', 1), ('here', 1), ('and', 1), ('information', 1), ('university', 1), ('great', 1)]\n",
      "[('levels', 1), ('featuring', 1), ('exceptional', 1), ('experience', 1), ('classes', 1), ('small', 1), ('studentcentered', 1), ('interaction', 1), ('of', 1), ('studentfaculty', 1), ('high', 1), ('mesa', 1), ('and', 1), ('cmesau', 1), ('colorado', 1), ('university', 1), ('offers', 1), ('an', 1)]\n",
      "[('green', 1), ('runs', 1), ('gold', 1), ('deep', 1), ('where', 1), ('coloradostate', 1), ('of', 1), ('pride', 1), ('httpstcow0lvpf6kv0', 1), ('home', 1), ('the', 1), ('university', 1), ('csurams', 1)]\n",
      "[('from', 1), ('news', 1), ('state', 1), ('of', 1), ('office', 1), ('affairs', 1), ('external', 1), ('colorado', 1), ('university', 1), ('the', 1), ('official', 1), ('pueblo', 1)]\n",
      "[('fort', 1), ('lewis', 1), ('s', 1), ('of', 1), ('crossroads', 1), ('college', 1), ('education', 1), ('and', 1), ('colorado', 1), ('adventure', 1), ('is', 1)]\n",
      "[('a', 1), ('on', 1), ('roadrunnerpride', 1), ('metropolitan', 1), ('state', 1), ('enriched', 1), ('of', 1), ('urban', 1), ('campus', 1), ('education', 1), ('denver', 1), ('university', 1), ('offers', 1), ('an', 1), ('highquality', 1)]\n",
      "[('a', 2), ('at', 1), ('public', 1), ('experience', 1), ('deep', 1), ('cost', 1), ('learning', 1), ('delivers', 1), ('private', 1), ('heart', 1), ('of', 1), ('college', 1), ('elevated', 1), ('western', 1), ('rockies', 1), ('the', 2), ('university', 1), ('in', 1)]\n",
      "[('sunny', 1), ('hawaii', 1), ('by', 1), ('webmaster', 1), ('walker', 1), ('liberal', 1), ('arts', 1), ('uh', 2), ('in', 1), ('accredited', 1), ('primarily', 1), ('hilo', 2), ('comprehensive', 1), ('university', 1), ('uhhilo', 1), ('is', 2), ('posted', 1), ('an', 1), ('acclaimed', 1)]\n",
      "[('just', 1), ('a', 1), ('makemanoayours', 1), ('account', 1), ('from', 1), ('facesofmanoa', 1), ('little', 1), ('exploreuhm', 1), ('gobows', 1), ('aloha', 1), ('uhmanoa', 1), ('official', 1)]\n",
      "[('well', 1), ('university', 1), ('20', 1), ('hawai', 1), ('learning', 1), ('of', 1), ('distance', 1), ('3', 1), ('maui', 1), ('associate', 1), ('on', 1), ('its', 1), ('college', 1), ('bas', 1), ('uh', 1), ('the', 1), ('offers', 1), ('campus', 1), ('as', 2), ('through', 1), ('i', 1), ('center', 1), ('degrees', 3)]\n",
      "[('a', 1), ('public', 1), ('hawaii', 1), ('account', 1), ('oahu', 2), ('on', 1), ('official', 1), ('of', 3), ('o', 1), ('uh', 1), ('ahu', 1), ('island', 1), ('west', 2), ('undergraduate', 1), ('the', 3), ('university', 2), ('uhwestoahu', 1), ('is', 1), ('twitter', 1)]\n",
      "[('a', 1), ('account', 1), ('northwest', 1), ('studentcentered', 1), ('uidaho', 1), ('of', 2), ('research', 1), ('idaho', 1), ('leading', 1), ('landgrant', 1), ('govandals', 1), ('the', 1), ('university', 2), ('official', 1), ('twitter', 1)]\n",
      "[('for', 1), ('idahostate', 1), ('account', 1), ('state', 1), ('idaho', 1), ('the', 1), ('university', 1), ('official', 1), ('twitter', 1)]\n",
      "[('go', 1), ('account', 1), ('focus', 1), ('on', 1), ('innovation', 1), ('state', 1), ('boise', 1), ('excellence', 1), ('of', 1), ('research', 1), ('creativity', 1), ('boisestate', 1), ('broncosports', 1), ('since', 1), ('1932', 1), ('and', 1), ('university', 1), ('academic', 1), ('official', 1), ('twitter', 1)]\n",
      "[('a', 1), ('public', 1), ('offering', 1), ('technical', 1), ('state', 1), ('fouryear', 1), ('of', 1), ('baccalaureate', 1), ('college', 2), ('page', 1), ('degrees', 1), ('lcsc', 1), ('and', 1), ('the', 1), ('lewisclark', 1), ('academic', 1), ('official', 1), ('twitter', 1)]\n",
      "[('a', 1), ('1893', 1), ('for', 2), ('us', 1), ('established', 1), ('news', 1), ('educational', 1), ('students', 1), ('preparing', 1), ('updates', 1), ('future', 1), ('everything', 1), ('follow', 1), ('and', 1), ('the', 1), ('campus', 1), ('demands', 1), ('institution', 1), ('worldrenowned', 1), ('in', 1)]\n",
      "[('a', 1), ('at', 1), ('near', 1), ('system', 1), ('regional', 1), ('of', 3), ('research', 1), ('located', 1), ('peak', 1), ('foothills', 1), ('colorado', 1), ('part', 1), ('reachhigher', 1), ('university', 2), ('uccs', 1), ('the', 2), ('pikes', 1), ('worldrenowned', 1)]\n"
     ]
    },
    {
     "name": "stdout",
     "output_type": "stream",
     "text": [
      "[('and', 2), ('150', 1), ('fields', 1), ('mountains', 1), ('montanastate', 1), ('of', 1), ('associate', 1), ('study', 1), ('doctoral', 1), ('s', 3), ('bachelor', 1), ('bozeman', 1), ('master', 1), ('minds', 1), ('offers', 1), ('over', 1), ('in', 2), ('mt', 1), ('located', 1), ('degrees', 1), ('beautiful', 1)]\n",
      "[('s', 1), ('montana', 1), ('located', 1), ('city', 1), ('largest', 1), ('the', 1), ('university', 1), ('third', 1), ('magic', 1), ('in', 1)]\n",
      "[('levels', 1), ('offering', 1), ('at', 1), ('central', 1), ('s', 2), ('north', 1), ('montana', 1), ('programs', 1), ('master', 1), ('and', 2), ('comprehensive', 1), ('university', 1), ('baccalaureate', 1), ('the', 1), ('associate', 1), ('services', 1)]\n",
      "[('a', 2), ('where', 1), ('take', 1), ('university', 1), ('one', 1), ('public', 1), ('us', 1), ('single', 1), ('fouryear', 1), ('of', 1), ('class', 1), ('only', 1), ('montana', 1), ('western', 1), ('the', 1), ('institution', 1), ('you', 1), ('offering', 1), ('at', 1), ('experience', 1), ('time', 1)]\n",
      "[('a', 1), ('nevada', 1), ('official', 1), ('public', 1), ('profile', 1), ('with', 1), ('nsc', 1), ('of', 1), ('comprehensive', 1), ('majors', 1), ('great', 1), ('college', 2), ('45', 1), ('the', 1), ('be', 3), ('over', 1), ('welcome', 1), ('to', 1), ('minors', 1), ('state', 2), ('4year', 1), ('bold', 1), ('is', 1)]\n",
      "[('for', 1), ('instagram', 1), ('snapchat', 1), ('of', 1), ('rebelstakechances', 1), ('las', 1), ('unlv', 1), ('officialunlv', 1), ('the', 1), ('university', 1), ('nevada', 1), ('official', 1), ('vegas', 1), ('twitter', 1)]\n",
      "[('school', 1), ('medicine', 1), ('cooperative', 1), ('from', 1), ('reno', 1), ('news', 1), ('of', 2), ('information', 1), ('academics', 1), ('athletics', 1), ('and', 1), ('more', 1), ('the', 1), ('university', 1), ('nevada', 1), ('extension', 1), ('official', 1)]\n",
      "[('a', 1), ('institution', 1), ('offering', 1), ('successthat', 1), ('student', 1), ('s', 2), ('it', 1), ('options', 1), ('state', 1), ('bachelor', 1), ('what', 1), ('master', 1), ('and', 1), ('all', 1), ('about', 1), ('associate', 1), ('is', 1), ('enmu', 2), ('degree', 1)]\n",
      "[('admissions', 1), ('for', 1), ('nmhu', 1), ('student', 1), ('of', 1), ('recruitment', 1), ('office', 1), ('new', 1), ('highlands', 1), ('undergraduate', 1), ('university', 1), ('mexico', 1), ('myhomeisnmhurecruitmentnmhueduadmissionsnmhuedu', 1)]\n",
      "[('science', 1), ('engineering', 1), ('university', 1), ('research', 1)]\n",
      "[('universitywe', 1), ('nmsu', 2), ('student', 1), ('from', 1), ('discovernmsu', 1), ('state', 1), ('tweets', 1), ('discovery', 1), ('new', 1), ('affairs', 1), ('enrollment', 1), ('all', 1), ('hellonmsu', 1), ('management', 1), ('about', 2), ('mexico', 1), ('are', 1), ('goaggies', 1)]\n",
      "[('a', 1), ('minorityserving', 1), ('espanola', 1), ('account', 1), ('of', 1), ('college', 1), ('new', 2), ('located', 1), ('northern', 1), ('education', 1), ('higher', 1), ('comprehensive', 1), ('mexico', 2), ('official', 1), ('institution', 1), ('twitter', 1), ('in', 1)]\n",
      "[('us', 1), ('snapchatinstagram', 1), ('on', 1), ('uofnm', 1), ('of', 1), ('new', 1), ('add', 1), ('the', 1), ('university', 1), ('mexico', 1)]\n",
      "[('1893', 1), ('go', 1), ('online', 1), ('on', 1), ('established', 1), ('mustangs', 1), ('bachelor', 1), ('new', 1), ('western', 1), ('degrees', 1), ('campus', 1), ('master', 1), ('and', 2), ('university', 1), ('mexico', 1), ('offers', 1), ('in', 1)]\n",
      "[('bluehawks', 2), ('state', 1), ('ndlegendary', 1), ('bluehawkpride', 1), ('dickinson', 1), ('of', 1), ('home', 1), ('the', 1), ('hawksareup', 1), ('in', 1)]\n",
      "[('great', 1), ('exceptional', 1), ('opportunities', 1), ('value', 1)]\n",
      "[('growth', 1), ('educated', 1), ('to', 2), ('dedicated', 1), ('welfare', 1), ('lifelong', 1), ('students', 1), ('of', 2), ('citizens', 1), ('we', 1), ('success', 1), ('their', 2), ('devotion', 1), ('all', 1), ('and', 2), ('the', 2), ('others', 1), ('are', 1), ('as', 1), ('development', 1)]\n",
      "[('a', 1), ('dakota', 1), ('north', 1), ('from', 1), ('news', 1), ('state', 1), ('studentfocused', 1), ('updates', 1), ('research', 1), ('landgrant', 1), ('and', 1), ('university', 2)]\n",
      "[('for', 1), ('featuring', 1), ('dakota', 1), ('we', 1), ('and', 1), ('about', 1), ('university', 1), ('official', 1), ('undproud', 1), ('north', 1), ('updates', 1), ('leaders', 1), ('und', 1), ('flagship', 1), ('account', 1), ('s', 1), ('conversation', 1), ('action', 1), ('the', 1), ('twitter', 1), ('in', 1), ('news', 1), ('are', 1)]\n",
      "[('state', 1), ('valley', 1), ('of', 1), ('city', 1), ('page', 1), ('the', 1), ('university', 1), ('official', 1), ('twitter', 1)]\n",
      "[('you', 1), ('live', 1), ('succeed', 1), ('goeou', 1), ('where', 1), ('environment', 1), ('the', 1), ('oregon', 1), ('possibilities', 1), ('eastern', 1), ('can', 1), ('and', 1), ('provides', 1), ('university', 1), ('academic', 1), ('explore', 1), ('an', 1), ('learn', 1)]\n",
      "[('public', 1), ('communication', 1), ('programs', 1), ('oregon', 1), ('of', 1), ('health', 1), ('4yr', 1), ('technologies', 1), ('sciences', 1), ('technology', 1), ('and', 1), ('w', 1), ('management', 1), ('university', 1), ('applied', 1), ('engineering', 1), ('institute', 1), ('in', 1)]\n",
      "[('go', 1), ('university', 2), ('portlandstate', 1), ('heart', 1), ('of', 2), ('urban', 1), ('vikings', 1), ('s', 1), ('oregon', 1), ('home', 1), ('the', 2), ('in', 1), ('downtown', 1), ('viks', 1), ('portland', 1), ('psu', 1), ('state', 1), ('research', 1), ('located', 1), ('is', 1), ('fearlesspsu', 1)]\n",
      "[('re', 1), ('we', 2), ('and', 1), ('about', 2), ('when', 1), ('think', 2), ('than', 1), ('sou', 1), ('statistics', 1), ('our', 1), ('it', 1), ('comes', 1), ('home', 1), ('raiderup', 1), ('souspirit', 1), ('you', 1), ('at', 1), ('to', 1), ('students', 1), ('research', 1), ('life', 1), ('real', 1), ('more', 1)]\n",
      "[('public', 1), ('for', 1), ('account', 1), ('s', 1), ('midsize', 1), ('howlaboutit', 1), ('oregon', 2), ('liberal', 1), ('arts', 1), ('western', 1), ('largest', 1), ('the', 1), ('university', 2), ('official', 1), ('twitter', 1)]\n",
      "[('possible', 1), ('where', 1), ('anything', 1), ('bhsu', 1), ('is', 1)]\n",
      "[('dakota', 1), ('state', 1), ('of', 1), ('home', 1), ('trojans', 1), ('the', 1), ('university', 1)]\n",
      "[('a', 1), ('that', 1), ('small', 1), ('state', 1), ('college', 1), ('northern', 1), ('education', 1), ('many', 1), ('experiences', 1), ('university', 2), ('offers', 1), ('large', 1), ('rivals', 1)]\n",
      "[('school', 1), ('engineering', 1), ('exceptional', 1), ('at', 1), ('a', 1), ('dakota', 1), ('mines', 1), ('south', 1), ('science', 1), ('of', 1), ('families', 1), ('technology', 1), ('education', 1), ('can', 1), ('and', 1), ('price', 1), ('the', 1), ('offers', 1), ('afford', 1), ('an', 1)]\n",
      "[('for', 1), ('instagram', 1), ('sdstate', 1), ('go', 2), ('account', 1), ('dakota', 1), ('south', 1), ('s', 1), ('gojacks', 1), ('sdstatepics', 1), ('snapchat', 1), ('big', 1), ('largest', 1), ('university', 1), ('official', 1), ('twitter', 1), ('blue', 1)]\n",
      "[('a', 2), ('feel', 1), ('extraordinary', 1), ('dakota', 1), ('with', 1), ('south', 1), ('of', 2), ('home', 1), ('bigtime', 1), ('and', 1), ('the', 2), ('university', 2), ('smallcollege', 1), ('is', 1), ('opportunities', 1)]\n",
      "[('dixie', 1), ('for', 1), ('httpstcounln9luitz', 1), ('account', 1), ('this', 1), ('is', 1), ('state', 1), ('the', 1), ('university', 1), ('official', 1), ('twitter', 1)]\n",
      "[('studentlife', 1), ('purpose', 1), ('news', 1), ('discovering', 1), ('students', 1), ('stories', 1), ('their', 1), ('events', 1), ('since', 1), ('utah', 1), ('university', 1), ('1897', 1), ('southern', 1)]\n",
      "[('us', 1), ('at', 1), ('account', 1), ('on', 1), ('ig', 1), ('universityofutah', 1), ('of', 2), ('httpstcoag7r7e6zzn', 1), ('utah', 1), ('and', 1), ('the', 2), ('university', 1), ('snapchatunivofutah', 1), ('find', 1), ('fb', 1), ('official', 1), ('twitter', 1)]\n",
      "[('aggie', 1), ('s', 1), ('state', 1), ('research', 1), ('fighting', 1), ('white', 1), ('landgrant', 1), ('and', 1), ('usuaggielife', 1), ('utah', 2), ('university', 2), ('blue', 1)]\n",
      "[('httpstco5ms87cchkj', 1), ('from', 1), ('state', 1), ('tweets', 1), ('snapchat', 1), ('weber', 1), ('weberstateu', 1), ('university', 1), ('official', 1)]\n",
      "[('boundless', 2), ('you', 2), ('to', 1), ('at', 1), ('believe', 1), ('be', 1), ('uw', 1), ('students', 1), ('of', 1), ('washington', 1), ('do', 1), ('dare', 1), ('can', 1), ('and', 1), ('the', 1), ('university', 1), ('faculty', 1), ('opportunities', 1), ('staff', 1), ('in', 1)]\n",
      "[('pullman', 1), ('for', 1), ('account', 1), ('gocougs', 1), ('state', 1), ('washington', 1), ('the', 1), ('university', 1), ('campus', 1), ('official', 1), ('wsu', 1), ('twitter', 1)]\n",
      "[('a', 1), ('incredible', 1), ('160', 1), ('students', 1), ('programs', 1), ('community', 1), ('campus', 1), ('15000', 1), ('academic', 1), ('beautiful', 1), ('an', 1), ('in', 1)]\n",
      "[('columbia', 1), ('central', 2), ('cascade', 1), ('state', 1), ('builds', 1), ('heart', 1), ('of', 1), ('between', 1), ('located', 1), ('lives', 1), ('washington', 1), ('river', 1), ('and', 1), ('the', 3), ('mountains', 1), ('is', 1), ('nestled', 1), ('in', 1)]\n",
      "[('a', 1), ('public', 1), ('us', 1), ('for', 1), ('to', 1), ('channels', 1), ('connections', 1), ('regional', 1), ('announcements', 1), ('washington', 1), ('ewu', 1), ('eastern', 1), ('follow', 1), ('and', 1), ('comprehensive', 1), ('university', 2), ('other', 1), ('is', 1), ('twitter', 1), ('events', 1)]\n",
      "[('for', 1), ('experience', 1), ('account', 1), ('state', 1), ('polytechnic', 1), ('tricities', 1), ('washington', 1), ('wsutca', 1), ('university', 1), ('official', 1), ('twitter', 1)]\n",
      "[('for', 1), ('to', 1), ('uw', 1), ('go', 1), ('where', 1), ('news', 1), ('communications', 1), ('of', 1), ('we', 1), ('institutional', 1), ('wyoming', 1), ('university', 1), ('are', 1)]\n"
     ]
    }
   ],
   "source": [
    "# Need to get counts for words for each university.\n",
    "\n",
    "exclude = set(string.punctuation)\n",
    "\n",
    "for uni_profile in university_desc_lookup:\n",
    "    filename = directory + \"UniversityWordCountData/\"+ uni_profile + \".csv\"\n",
    "    desc = university_desc_lookup[uni_profile]\n",
    "    words = ''.join(ch.lower() for ch in desc if ch not in exclude)\n",
    "    \n",
    "    temp_word_list = [] # This is so the same instance is not counted twice\n",
    "    description_words = [] # This is so I have all the words to count.\n",
    "    temp_word_list = words.split()\n",
    "    temp_word_list = set(temp_word_list)\n",
    "    description_words = words.split()\n",
    "    word_counts = []\n",
    "    \n",
    "    for term in temp_word_list:\n",
    "        count = description_words.count(term)\n",
    "        word_counts.append((term,count))\n",
    "\n",
    "    with open(filename,\"w\", newline=\"\") as outfile:\n",
    "        writer = csv.writer(outfile)\n",
    "        for line in word_counts:\n",
    "            writer.writerows(word_counts)\n",
    "        \n",
    "    print(word_counts)\n",
    "    \n",
    "# Somehow this produces a frustrating error where the csv file has each line\n",
    "# printed anywhere between 4 and 12 times. After a long battle, I have not been able to find the\n",
    "# source of this error so in the interest of moving forward, I have cleaned these out\n",
    "# manually."
   ]
  },
  {
   "cell_type": "code",
   "execution_count": 139,
   "metadata": {
    "collapsed": true
   },
   "outputs": [],
   "source": [
    "# Because of the error described above, I chose to read out the word counts\n",
    "# for each university into separate files (easier to discern what was repetitions\n",
    "# and what was valid) then read each of these files back into Python to combinne\n",
    "# them into a single file, which I thought would be easier to visualize in R.\n",
    "\n",
    "from os import listdir\n",
    "import re\n",
    "\n",
    "csv_dir = directory + \"UniversityWordCountData_Cleaned/\"\n",
    "\n",
    "for file in listdir(csv_dir):\n",
    "    uni_files = [f for f in listdir(csv_dir)]\n",
    "    "
   ]
  },
  {
   "cell_type": "code",
   "execution_count": 191,
   "metadata": {},
   "outputs": [
    {
     "name": "stdout",
     "output_type": "stream",
     "text": [
      "[('adamsstate', 'for', '1'), ('adamsstate', 'event', '1'), ('adamsstate', 'begin', '1'), ('adamsstate', 'adams', '1'), ('adamsstate', 'news', '1')]\n"
     ]
    }
   ],
   "source": [
    "# This code is to read in each of the csv files and combine them into a long \n",
    "# list of (twitter id, word, word count)\n",
    "\n",
    "uni_words_list = []\n",
    "\n",
    "for x in range(0, len(uni_files)):\n",
    "    uni_file = uni_files[x]\n",
    "    uni_name = re.sub(r\".csv\",\"\",uni_file)\n",
    "    with open(csv_dir + uni_file,\"r\") as uf:\n",
    "        for line in uf.readlines():\n",
    "            line = line.strip(\"\\n\").strip(\"/r\").split(\"\\t\")\n",
    "            for word in line:\n",
    "                word = word.split(\",\")\n",
    "                uni_words_list.append((uni_name,word[0],word[1]))\n",
    "print(uni_words_list[:5])\n"
   ]
  },
  {
   "cell_type": "code",
   "execution_count": 192,
   "metadata": {
    "collapsed": true
   },
   "outputs": [],
   "source": [
    "# Finally, this code is for writing the list out to a big file.\n",
    "\n",
    "final_words_count = directory + \"university_words_count.csv\"\n",
    "\n",
    "with open(final_words_count,\"w\", newline=\"\") as final_file:\n",
    "    final_writer = csv.writer(final_file)\n",
    "    for line in uni_words_list:\n",
    "        final_writer.writerows(uni_words_list)\n",
    "\n",
    "# I am estatic to have gotten here as it was a painful journey.\n",
    "# That said, I may need to consider splitting the big csv file into several\n",
    "# smaller ones for the next time."
   ]
  }
 ],
 "metadata": {
  "kernelspec": {
   "display_name": "Python 3",
   "language": "python",
   "name": "python3"
  },
  "language_info": {
   "codemirror_mode": {
    "name": "ipython",
    "version": 3
   },
   "file_extension": ".py",
   "mimetype": "text/x-python",
   "name": "python",
   "nbconvert_exporter": "python",
   "pygments_lexer": "ipython3",
   "version": "3.6.2"
  }
 },
 "nbformat": 4,
 "nbformat_minor": 2
}
